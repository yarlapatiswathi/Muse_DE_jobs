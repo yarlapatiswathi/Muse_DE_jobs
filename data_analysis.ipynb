{
 "cells": [
  {
   "cell_type": "code",
   "execution_count": 2,
   "metadata": {},
   "outputs": [],
   "source": [
    "import mysql.connector as connection\n",
    "import pandas as pd\n",
    "import numpy as np\n",
    "import matplotlib\n",
    "import matplotlib.pyplot as plt\n",
    "import seaborn as sns"
   ]
  },
  {
   "cell_type": "code",
   "execution_count": 2,
   "metadata": {},
   "outputs": [],
   "source": [
    "try:\n",
    "    mydb = connection.connect(host=\"localhost\", database = 'Muse_Job_details',user=\"root\", passwd=\"admin\")\n",
    "    query = \"Select * from Job_listings_DA;\"\n",
    "    df = pd.read_sql(query,mydb,parse_dates='publish date')\n",
    "    mydb.close() #close the connection\n",
    "except Exception as e:\n",
    "    mydb.close()\n",
    "    print(str(e))"
   ]
  },
  {
   "cell_type": "code",
   "execution_count": 3,
   "metadata": {},
   "outputs": [
    {
     "name": "stdout",
     "output_type": "stream",
     "text": [
      "<class 'pandas.core.frame.DataFrame'>\n",
      "RangeIndex: 7905 entries, 0 to 7904\n",
      "Data columns (total 7 columns):\n",
      " #   Column          Non-Null Count  Dtype          \n",
      "---  ------          --------------  -----          \n",
      " 0   id              7905 non-null   int64          \n",
      " 1   position title  7905 non-null   object         \n",
      " 2   description     7905 non-null   object         \n",
      " 3   level           7905 non-null   object         \n",
      " 4   company         7905 non-null   object         \n",
      " 5   publish date    7905 non-null   datetime64[ns] \n",
      " 6   publish time    7905 non-null   timedelta64[ns]\n",
      "dtypes: datetime64[ns](1), int64(1), object(4), timedelta64[ns](1)\n",
      "memory usage: 432.4+ KB\n"
     ]
    }
   ],
   "source": [
    "df.info()"
   ]
  },
  {
   "cell_type": "code",
   "execution_count": 4,
   "metadata": {},
   "outputs": [],
   "source": [
    "df['publish time']=df['publish time'].astype('string')"
   ]
  },
  {
   "cell_type": "code",
   "execution_count": 5,
   "metadata": {},
   "outputs": [
    {
     "data": {
      "text/html": [
       "<div>\n",
       "<style scoped>\n",
       "    .dataframe tbody tr th:only-of-type {\n",
       "        vertical-align: middle;\n",
       "    }\n",
       "\n",
       "    .dataframe tbody tr th {\n",
       "        vertical-align: top;\n",
       "    }\n",
       "\n",
       "    .dataframe thead th {\n",
       "        text-align: right;\n",
       "    }\n",
       "</style>\n",
       "<table border=\"1\" class=\"dataframe\">\n",
       "  <thead>\n",
       "    <tr style=\"text-align: right;\">\n",
       "      <th></th>\n",
       "      <th>id</th>\n",
       "      <th>position title</th>\n",
       "      <th>description</th>\n",
       "      <th>level</th>\n",
       "      <th>company</th>\n",
       "      <th>publish date</th>\n",
       "      <th>publish time</th>\n",
       "    </tr>\n",
       "  </thead>\n",
       "  <tbody>\n",
       "    <tr>\n",
       "      <th>0</th>\n",
       "      <td>722961</td>\n",
       "      <td>Service Desk Level I Analyst (Contract)</td>\n",
       "      <td>This is an open ended contract assignment wher...</td>\n",
       "      <td>mid</td>\n",
       "      <td>Taco Bell</td>\n",
       "      <td>2022-05-25</td>\n",
       "      <td>0 days 10:09:11</td>\n",
       "    </tr>\n",
       "    <tr>\n",
       "      <th>1</th>\n",
       "      <td>850825</td>\n",
       "      <td>Machine Learning Researcher</td>\n",
       "      <td>Please note that this role requires profession...</td>\n",
       "      <td>mid</td>\n",
       "      <td>Hudson River Trading</td>\n",
       "      <td>2023-01-12</td>\n",
       "      <td>0 days 23:03:05</td>\n",
       "    </tr>\n",
       "    <tr>\n",
       "      <th>2</th>\n",
       "      <td>894406</td>\n",
       "      <td>Global Process Owner</td>\n",
       "      <td>JOB DESCRIPTION Global Process OwnerWilmington...</td>\n",
       "      <td>senior</td>\n",
       "      <td>CSC</td>\n",
       "      <td>2023-04-28</td>\n",
       "      <td>0 days 10:19:21</td>\n",
       "    </tr>\n",
       "    <tr>\n",
       "      <th>3</th>\n",
       "      <td>1078178</td>\n",
       "      <td>Chief Information Officer - Bally Sports</td>\n",
       "      <td>The Chief Information Officer (CIO) is a hands...</td>\n",
       "      <td>senior</td>\n",
       "      <td>Sinclair Broadcast Group</td>\n",
       "      <td>2023-04-25</td>\n",
       "      <td>0 days 11:23:35</td>\n",
       "    </tr>\n",
       "    <tr>\n",
       "      <th>4</th>\n",
       "      <td>1083707</td>\n",
       "      <td>Strategic Sourcing Agent</td>\n",
       "      <td>The Procurement team is growing and searching ...</td>\n",
       "      <td>mid</td>\n",
       "      <td>Sinclair Broadcast Group</td>\n",
       "      <td>2023-04-22</td>\n",
       "      <td>0 days 11:17:14</td>\n",
       "    </tr>\n",
       "  </tbody>\n",
       "</table>\n",
       "</div>"
      ],
      "text/plain": [
       "        id                            position title  \\\n",
       "0   722961   Service Desk Level I Analyst (Contract)   \n",
       "1   850825               Machine Learning Researcher   \n",
       "2   894406                      Global Process Owner   \n",
       "3  1078178  Chief Information Officer - Bally Sports   \n",
       "4  1083707                  Strategic Sourcing Agent   \n",
       "\n",
       "                                         description   level  \\\n",
       "0  This is an open ended contract assignment wher...     mid   \n",
       "1  Please note that this role requires profession...     mid   \n",
       "2  JOB DESCRIPTION Global Process OwnerWilmington...  senior   \n",
       "3  The Chief Information Officer (CIO) is a hands...  senior   \n",
       "4  The Procurement team is growing and searching ...     mid   \n",
       "\n",
       "                    company publish date     publish time  \n",
       "0                 Taco Bell   2022-05-25  0 days 10:09:11  \n",
       "1      Hudson River Trading   2023-01-12  0 days 23:03:05  \n",
       "2                       CSC   2023-04-28  0 days 10:19:21  \n",
       "3  Sinclair Broadcast Group   2023-04-25  0 days 11:23:35  \n",
       "4  Sinclair Broadcast Group   2023-04-22  0 days 11:17:14  "
      ]
     },
     "execution_count": 5,
     "metadata": {},
     "output_type": "execute_result"
    }
   ],
   "source": [
    "df.head()"
   ]
  },
  {
   "cell_type": "code",
   "execution_count": 6,
   "metadata": {},
   "outputs": [
    {
     "data": {
      "text/plain": [
       "id                0\n",
       "position title    0\n",
       "description       0\n",
       "level             0\n",
       "company           0\n",
       "publish date      0\n",
       "publish time      0\n",
       "dtype: int64"
      ]
     },
     "execution_count": 6,
     "metadata": {},
     "output_type": "execute_result"
    }
   ],
   "source": [
    "df.isnull().sum()"
   ]
  },
  {
   "attachments": {},
   "cell_type": "markdown",
   "metadata": {},
   "source": [
    "### Exploratory Data Analysis\n",
    "\n",
    "Job Title"
   ]
  },
  {
   "cell_type": "code",
   "execution_count": 7,
   "metadata": {},
   "outputs": [],
   "source": [
    "pd.set_option('display.max_rows',None)"
   ]
  },
  {
   "attachments": {},
   "cell_type": "markdown",
   "metadata": {},
   "source": [
    "Short listing data related jobs"
   ]
  },
  {
   "cell_type": "code",
   "execution_count": 8,
   "metadata": {},
   "outputs": [],
   "source": [
    "pattern='engineer|analyst|scientist|Machine Learning|Data|AWS'\n",
    "mask=df['position title'].str.contains(pattern,case=False)\n",
    "df=df[mask]"
   ]
  },
  {
   "attachments": {},
   "cell_type": "markdown",
   "metadata": {},
   "source": [
    "- 10 most data related jobs"
   ]
  },
  {
   "cell_type": "code",
   "execution_count": 26,
   "metadata": {},
   "outputs": [
    {
     "data": {
      "text/plain": [
       "Senior Data Engineer                          64\n",
       "Data Engineer                                 42\n",
       "Senior Data Scientist                         30\n",
       "Data Scientist                                24\n",
       "Data Engineer, Product Analytics              22\n",
       "Software Engineer, Machine Learning           21\n",
       "Data Analyst                                  19\n",
       "Lead Data Engineer                            17\n",
       "Software Engineer, Product - Generative AI    16\n",
       "Data Engineer, Analytics                      15\n",
       "Name: position title, dtype: int64"
      ]
     },
     "execution_count": 26,
     "metadata": {},
     "output_type": "execute_result"
    }
   ],
   "source": [
    "pop_job_titles=df['position title'].value_counts()[:10]\n",
    "pop_job_titles"
   ]
  },
  {
   "cell_type": "code",
   "execution_count": 10,
   "metadata": {},
   "outputs": [
    {
     "data": {
      "image/png": "[encoded data removed]",
      "text/plain": [
       "<Figure size 864x288 with 1 Axes>"
      ]
     },
     "metadata": {
      "needs_background": "light"
     },
     "output_type": "display_data"
    }
   ],
   "source": [
    "df['position title'].value_counts()[:20].plot(kind='barh',figsize=(12,4)).invert_yaxis()\n",
    "plt.title('Most common Data related job titles ')\n",
    "plt.show()"
   ]
  },
  {
   "cell_type": "code",
   "execution_count": 11,
   "metadata": {},
   "outputs": [
    {
     "data": {
      "text/html": [
       "<div>\n",
       "<style scoped>\n",
       "    .dataframe tbody tr th:only-of-type {\n",
       "        vertical-align: middle;\n",
       "    }\n",
       "\n",
       "    .dataframe tbody tr th {\n",
       "        vertical-align: top;\n",
       "    }\n",
       "\n",
       "    .dataframe thead th {\n",
       "        text-align: right;\n",
       "    }\n",
       "</style>\n",
       "<table border=\"1\" class=\"dataframe\">\n",
       "  <thead>\n",
       "    <tr style=\"text-align: right;\">\n",
       "      <th></th>\n",
       "      <th>id</th>\n",
       "      <th>position title</th>\n",
       "      <th>description</th>\n",
       "      <th>level</th>\n",
       "      <th>company</th>\n",
       "      <th>publish date</th>\n",
       "      <th>publish time</th>\n",
       "    </tr>\n",
       "  </thead>\n",
       "  <tbody>\n",
       "    <tr>\n",
       "      <th>0</th>\n",
       "      <td>722961</td>\n",
       "      <td>Service Desk Level I Analyst (Contract)</td>\n",
       "      <td>This is an open ended contract assignment wher...</td>\n",
       "      <td>mid</td>\n",
       "      <td>Taco Bell</td>\n",
       "      <td>2022-05-25</td>\n",
       "      <td>0 days 10:09:11</td>\n",
       "    </tr>\n",
       "    <tr>\n",
       "      <th>1</th>\n",
       "      <td>850825</td>\n",
       "      <td>Machine Learning Researcher</td>\n",
       "      <td>Please note that this role requires profession...</td>\n",
       "      <td>mid</td>\n",
       "      <td>Hudson River Trading</td>\n",
       "      <td>2023-01-12</td>\n",
       "      <td>0 days 23:03:05</td>\n",
       "    </tr>\n",
       "    <tr>\n",
       "      <th>5</th>\n",
       "      <td>1088354</td>\n",
       "      <td>Data and Reporting Analyst</td>\n",
       "      <td>Sinclair Broadcast Group (SBG) is seeking a fu...</td>\n",
       "      <td>senior</td>\n",
       "      <td>Sinclair Broadcast Group</td>\n",
       "      <td>2023-04-25</td>\n",
       "      <td>0 days 11:23:35</td>\n",
       "    </tr>\n",
       "    <tr>\n",
       "      <th>26</th>\n",
       "      <td>4181663</td>\n",
       "      <td>Senior Data Insights Analyst</td>\n",
       "      <td>Bluecore is a marketing technology company tha...</td>\n",
       "      <td>senior</td>\n",
       "      <td>Bluecore</td>\n",
       "      <td>2021-07-15</td>\n",
       "      <td>0 days 21:27:56</td>\n",
       "    </tr>\n",
       "    <tr>\n",
       "      <th>27</th>\n",
       "      <td>4278353</td>\n",
       "      <td>Principal Data Scientist</td>\n",
       "      <td>Bluecore is a marketing technology company tha...</td>\n",
       "      <td>senior</td>\n",
       "      <td>Bluecore</td>\n",
       "      <td>2021-07-15</td>\n",
       "      <td>0 days 21:27:56</td>\n",
       "    </tr>\n",
       "  </tbody>\n",
       "</table>\n",
       "</div>"
      ],
      "text/plain": [
       "         id                           position title  \\\n",
       "0    722961  Service Desk Level I Analyst (Contract)   \n",
       "1    850825              Machine Learning Researcher   \n",
       "5   1088354               Data and Reporting Analyst   \n",
       "26  4181663             Senior Data Insights Analyst   \n",
       "27  4278353                 Principal Data Scientist   \n",
       "\n",
       "                                          description   level  \\\n",
       "0   This is an open ended contract assignment wher...     mid   \n",
       "1   Please note that this role requires profession...     mid   \n",
       "5   Sinclair Broadcast Group (SBG) is seeking a fu...  senior   \n",
       "26  Bluecore is a marketing technology company tha...  senior   \n",
       "27  Bluecore is a marketing technology company tha...  senior   \n",
       "\n",
       "                     company publish date     publish time  \n",
       "0                  Taco Bell   2022-05-25  0 days 10:09:11  \n",
       "1       Hudson River Trading   2023-01-12  0 days 23:03:05  \n",
       "5   Sinclair Broadcast Group   2023-04-25  0 days 11:23:35  \n",
       "26                  Bluecore   2021-07-15  0 days 21:27:56  \n",
       "27                  Bluecore   2021-07-15  0 days 21:27:56  "
      ]
     },
     "execution_count": 11,
     "metadata": {},
     "output_type": "execute_result"
    }
   ],
   "source": [
    "df.head()"
   ]
  },
  {
   "cell_type": "code",
   "execution_count": 12,
   "metadata": {},
   "outputs": [
    {
     "data": {
      "text/plain": [
       "Index(['id', 'position title', 'description', 'level', 'company',\n",
       "       'publish date', 'publish time'],\n",
       "      dtype='object')"
      ]
     },
     "execution_count": 12,
     "metadata": {},
     "output_type": "execute_result"
    }
   ],
   "source": [
    "df.columns"
   ]
  },
  {
   "cell_type": "code",
   "execution_count": 13,
   "metadata": {},
   "outputs": [
    {
     "data": {
      "text/plain": [
       "level\n",
       "entry           12\n",
       "internship      46\n",
       "mid           1096\n",
       "senior        2350\n",
       "Name: position title, dtype: int64"
      ]
     },
     "execution_count": 13,
     "metadata": {},
     "output_type": "execute_result"
    }
   ],
   "source": [
    "df.groupby(['level'])['position title'].count()"
   ]
  },
  {
   "cell_type": "code",
   "execution_count": 14,
   "metadata": {},
   "outputs": [
    {
     "data": {
      "image/png": "[encoded data removed]",
      "text/plain": [
       "<Figure size 432x288 with 1 Axes>"
      ]
     },
     "metadata": {
      "needs_background": "light"
     },
     "output_type": "display_data"
    }
   ],
   "source": [
    "df.groupby(['level'])['position title'].count().plot(kind='bar')\n",
    "plt.title('Data jobs in each level')\n",
    "plt.xticks(rotation='horizontal')\n",
    "plt.show()"
   ]
  },
  {
   "cell_type": "code",
   "execution_count": 29,
   "metadata": {},
   "outputs": [
    {
     "data": {
      "text/html": [
       "<div>\n",
       "<style scoped>\n",
       "    .dataframe tbody tr th:only-of-type {\n",
       "        vertical-align: middle;\n",
       "    }\n",
       "\n",
       "    .dataframe tbody tr th {\n",
       "        vertical-align: top;\n",
       "    }\n",
       "\n",
       "    .dataframe thead th {\n",
       "        text-align: right;\n",
       "    }\n",
       "</style>\n",
       "<table border=\"1\" class=\"dataframe\">\n",
       "  <thead>\n",
       "    <tr style=\"text-align: right;\">\n",
       "      <th></th>\n",
       "      <th>id</th>\n",
       "      <th>position title</th>\n",
       "      <th>description</th>\n",
       "      <th>level</th>\n",
       "      <th>company</th>\n",
       "      <th>publish date</th>\n",
       "      <th>publish time</th>\n",
       "    </tr>\n",
       "  </thead>\n",
       "  <tbody>\n",
       "    <tr>\n",
       "      <th>28</th>\n",
       "      <td>4278354</td>\n",
       "      <td>Senior Data Scientist</td>\n",
       "      <td>Bluecore is a marketing technology company tha...</td>\n",
       "      <td>senior</td>\n",
       "      <td>Bluecore</td>\n",
       "      <td>2021-07-15</td>\n",
       "      <td>0 days 21:27:56</td>\n",
       "    </tr>\n",
       "    <tr>\n",
       "      <th>30</th>\n",
       "      <td>4722492</td>\n",
       "      <td>Senior Data Scientist</td>\n",
       "      <td>Senior Data Scientist Mountain View, CA  Groun...</td>\n",
       "      <td>senior</td>\n",
       "      <td>GroundTruth</td>\n",
       "      <td>2021-06-10</td>\n",
       "      <td>0 days 23:12:58</td>\n",
       "    </tr>\n",
       "    <tr>\n",
       "      <th>45</th>\n",
       "      <td>5571580</td>\n",
       "      <td>Senior Data Scientist</td>\n",
       "      <td>Senior Data ScientistMountain View, CA | Data ...</td>\n",
       "      <td>senior</td>\n",
       "      <td>GroundTruth</td>\n",
       "      <td>2021-06-10</td>\n",
       "      <td>0 days 23:12:58</td>\n",
       "    </tr>\n",
       "    <tr>\n",
       "      <th>46</th>\n",
       "      <td>5625957</td>\n",
       "      <td>Data Engineer</td>\n",
       "      <td>The Data team leverages data from our autonomo...</td>\n",
       "      <td>mid</td>\n",
       "      <td>Zoox</td>\n",
       "      <td>2023-01-14</td>\n",
       "      <td>0 days 23:01:44</td>\n",
       "    </tr>\n",
       "    <tr>\n",
       "      <th>77</th>\n",
       "      <td>5769874</td>\n",
       "      <td>Senior Data Scientist</td>\n",
       "      <td>Senior Data ScientistMountain View, CA | Data ...</td>\n",
       "      <td>senior</td>\n",
       "      <td>GroundTruth</td>\n",
       "      <td>2021-06-10</td>\n",
       "      <td>0 days 23:12:58</td>\n",
       "    </tr>\n",
       "  </tbody>\n",
       "</table>\n",
       "</div>"
      ],
      "text/plain": [
       "         id         position title  \\\n",
       "28  4278354  Senior Data Scientist   \n",
       "30  4722492  Senior Data Scientist   \n",
       "45  5571580  Senior Data Scientist   \n",
       "46  5625957          Data Engineer   \n",
       "77  5769874  Senior Data Scientist   \n",
       "\n",
       "                                          description   level      company  \\\n",
       "28  Bluecore is a marketing technology company tha...  senior     Bluecore   \n",
       "30  Senior Data Scientist Mountain View, CA  Groun...  senior  GroundTruth   \n",
       "45  Senior Data ScientistMountain View, CA | Data ...  senior  GroundTruth   \n",
       "46  The Data team leverages data from our autonomo...     mid         Zoox   \n",
       "77  Senior Data ScientistMountain View, CA | Data ...  senior  GroundTruth   \n",
       "\n",
       "   publish date     publish time  \n",
       "28   2021-07-15  0 days 21:27:56  \n",
       "30   2021-06-10  0 days 23:12:58  \n",
       "45   2021-06-10  0 days 23:12:58  \n",
       "46   2023-01-14  0 days 23:01:44  \n",
       "77   2021-06-10  0 days 23:12:58  "
      ]
     },
     "execution_count": 29,
     "metadata": {},
     "output_type": "execute_result"
    }
   ],
   "source": [
    "pop_job_df=df[df['position title'].isin([job for job in pop_job_titles.index])]\n",
    "pop_job_df.head()"
   ]
  },
  {
   "cell_type": "code",
   "execution_count": 49,
   "metadata": {},
   "outputs": [
    {
     "data": {
      "text/html": [
       "<div>\n",
       "<style scoped>\n",
       "    .dataframe tbody tr th:only-of-type {\n",
       "        vertical-align: middle;\n",
       "    }\n",
       "\n",
       "    .dataframe tbody tr th {\n",
       "        vertical-align: top;\n",
       "    }\n",
       "\n",
       "    .dataframe thead th {\n",
       "        text-align: right;\n",
       "    }\n",
       "</style>\n",
       "<table border=\"1\" class=\"dataframe\">\n",
       "  <thead>\n",
       "    <tr style=\"text-align: right;\">\n",
       "      <th></th>\n",
       "      <th>level</th>\n",
       "      <th>position title</th>\n",
       "      <th>count</th>\n",
       "    </tr>\n",
       "  </thead>\n",
       "  <tbody>\n",
       "    <tr>\n",
       "      <th>0</th>\n",
       "      <td>mid</td>\n",
       "      <td>Data Engineer</td>\n",
       "      <td>25</td>\n",
       "    </tr>\n",
       "    <tr>\n",
       "      <th>1</th>\n",
       "      <td>mid</td>\n",
       "      <td>Data Analyst</td>\n",
       "      <td>17</td>\n",
       "    </tr>\n",
       "    <tr>\n",
       "      <th>2</th>\n",
       "      <td>mid</td>\n",
       "      <td>Data Engineer, Analytics</td>\n",
       "      <td>15</td>\n",
       "    </tr>\n",
       "    <tr>\n",
       "      <th>3</th>\n",
       "      <td>mid</td>\n",
       "      <td>Data Engineer, Product Analytics</td>\n",
       "      <td>15</td>\n",
       "    </tr>\n",
       "    <tr>\n",
       "      <th>4</th>\n",
       "      <td>mid</td>\n",
       "      <td>Data Scientist</td>\n",
       "      <td>15</td>\n",
       "    </tr>\n",
       "  </tbody>\n",
       "</table>\n",
       "</div>"
      ],
      "text/plain": [
       "  level                    position title  count\n",
       "0   mid                     Data Engineer     25\n",
       "1   mid                      Data Analyst     17\n",
       "2   mid          Data Engineer, Analytics     15\n",
       "3   mid  Data Engineer, Product Analytics     15\n",
       "4   mid                    Data Scientist     15"
      ]
     },
     "execution_count": 49,
     "metadata": {},
     "output_type": "execute_result"
    }
   ],
   "source": [
    "temp=pd.DataFrame(pop_job_df.groupby('level')['position title'].value_counts())\n",
    "temp.columns=['count']\n",
    "temp=temp.reset_index()\n",
    "temp.head()"
   ]
  },
  {
   "cell_type": "code",
   "execution_count": 57,
   "metadata": {},
   "outputs": [
    {
     "data": {
      "image/png": "[encoded data removed]",
      "text/plain": [
       "<Figure size 576x360 with 1 Axes>"
      ]
     },
     "metadata": {
      "needs_background": "light"
     },
     "output_type": "display_data"
    }
   ],
   "source": [
    "plt.figure(figsize=(8,5))\n",
    "sns.barplot(x='position title',y='count',hue='level',data=temp)\n",
    "plt.title('Data jobs per level')\n",
    "plt.xticks(rotation=90)\n",
    "plt.show()"
   ]
  },
  {
   "attachments": {},
   "cell_type": "markdown",
   "metadata": {},
   "source": [
    "From the plot we can see that most of the jobs are in mid and senior level. lets see what jobs are in entry level."
   ]
  },
  {
   "attachments": {},
   "cell_type": "markdown",
   "metadata": {},
   "source": [
    "Analysing Entry level jobs"
   ]
  },
  {
   "cell_type": "code",
   "execution_count": 61,
   "metadata": {},
   "outputs": [
    {
     "data": {
      "text/html": [
       "<div>\n",
       "<style scoped>\n",
       "    .dataframe tbody tr th:only-of-type {\n",
       "        vertical-align: middle;\n",
       "    }\n",
       "\n",
       "    .dataframe tbody tr th {\n",
       "        vertical-align: top;\n",
       "    }\n",
       "\n",
       "    .dataframe thead th {\n",
       "        text-align: right;\n",
       "    }\n",
       "</style>\n",
       "<table border=\"1\" class=\"dataframe\">\n",
       "  <thead>\n",
       "    <tr style=\"text-align: right;\">\n",
       "      <th></th>\n",
       "      <th>id</th>\n",
       "      <th>position title</th>\n",
       "      <th>description</th>\n",
       "      <th>level</th>\n",
       "      <th>company</th>\n",
       "      <th>publish date</th>\n",
       "      <th>publish time</th>\n",
       "    </tr>\n",
       "  </thead>\n",
       "  <tbody>\n",
       "    <tr>\n",
       "      <th>102</th>\n",
       "      <td>6696435</td>\n",
       "      <td>Online Data Analyst - Remote</td>\n",
       "      <td>We are hiring freelance English speaking Onlin...</td>\n",
       "      <td>entry</td>\n",
       "      <td>TELUS International AI Inc.</td>\n",
       "      <td>2022-10-06</td>\n",
       "      <td>0 days 15:07:17</td>\n",
       "    </tr>\n",
       "    <tr>\n",
       "      <th>133</th>\n",
       "      <td>7176379</td>\n",
       "      <td>Junior Data Engineer</td>\n",
       "      <td>COMPANYBudweiser, Bud Light. Stella Artois. Mi...</td>\n",
       "      <td>entry</td>\n",
       "      <td>Anheuser-Busch</td>\n",
       "      <td>2022-02-18</td>\n",
       "      <td>0 days 23:50:13</td>\n",
       "    </tr>\n",
       "    <tr>\n",
       "      <th>134</th>\n",
       "      <td>7176380</td>\n",
       "      <td>Junior Data Engineer</td>\n",
       "      <td>COMPANYBudweiser, Bud Light. Stella Artois. Mi...</td>\n",
       "      <td>entry</td>\n",
       "      <td>Anheuser-Busch</td>\n",
       "      <td>2022-02-18</td>\n",
       "      <td>0 days 23:50:13</td>\n",
       "    </tr>\n",
       "    <tr>\n",
       "      <th>135</th>\n",
       "      <td>7176381</td>\n",
       "      <td>Junior Data Engineer</td>\n",
       "      <td>COMPANYBudweiser, Bud Light. Stella Artois. Mi...</td>\n",
       "      <td>entry</td>\n",
       "      <td>Anheuser-Busch</td>\n",
       "      <td>2022-06-08</td>\n",
       "      <td>0 days 00:42:11</td>\n",
       "    </tr>\n",
       "    <tr>\n",
       "      <th>136</th>\n",
       "      <td>7176382</td>\n",
       "      <td>Junior Data Engineer</td>\n",
       "      <td>COMPANYBudweiser, Bud Light. Stella Artois. Mi...</td>\n",
       "      <td>entry</td>\n",
       "      <td>Anheuser-Busch</td>\n",
       "      <td>2022-02-18</td>\n",
       "      <td>0 days 23:50:13</td>\n",
       "    </tr>\n",
       "    <tr>\n",
       "      <th>244</th>\n",
       "      <td>7494998</td>\n",
       "      <td>Junior Risk Reporting Analyst</td>\n",
       "      <td>Who we are At PayPal (NASDAQ: PYPL), we believ...</td>\n",
       "      <td>entry</td>\n",
       "      <td>PayPal</td>\n",
       "      <td>2022-01-28</td>\n",
       "      <td>0 days 11:15:12</td>\n",
       "    </tr>\n",
       "    <tr>\n",
       "      <th>5068</th>\n",
       "      <td>11282827</td>\n",
       "      <td>Junior Data Analyst</td>\n",
       "      <td>We believe everyone should have access to a be...</td>\n",
       "      <td>entry</td>\n",
       "      <td>Perpay</td>\n",
       "      <td>2023-05-17</td>\n",
       "      <td>0 days 23:03:55</td>\n",
       "    </tr>\n",
       "    <tr>\n",
       "      <th>5442</th>\n",
       "      <td>11307681</td>\n",
       "      <td>Field Sales Support Systems Engineer (Level 2)</td>\n",
       "      <td>Description:We are Lockheed MartinThis positio...</td>\n",
       "      <td>entry</td>\n",
       "      <td>Lockheed Martin</td>\n",
       "      <td>2023-05-06</td>\n",
       "      <td>0 days 11:14:01</td>\n",
       "    </tr>\n",
       "    <tr>\n",
       "      <th>6759</th>\n",
       "      <td>11401409</td>\n",
       "      <td>A/AI Research Engineer</td>\n",
       "      <td>Description:When it comes to using cutting-edg...</td>\n",
       "      <td>entry</td>\n",
       "      <td>Lockheed Martin</td>\n",
       "      <td>2023-05-19</td>\n",
       "      <td>0 days 11:22:16</td>\n",
       "    </tr>\n",
       "    <tr>\n",
       "      <th>6921</th>\n",
       "      <td>11407560</td>\n",
       "      <td>Data Analyst - Level 2</td>\n",
       "      <td>Description:We are Lockheed MartinThe selected...</td>\n",
       "      <td>entry</td>\n",
       "      <td>Lockheed Martin</td>\n",
       "      <td>2023-05-20</td>\n",
       "      <td>0 days 11:25:35</td>\n",
       "    </tr>\n",
       "    <tr>\n",
       "      <th>7449</th>\n",
       "      <td>11426998</td>\n",
       "      <td>Data Solutions Analyst</td>\n",
       "      <td>Description Provides, builds, and maintains pr...</td>\n",
       "      <td>entry</td>\n",
       "      <td>Liberty Mutual Insurance</td>\n",
       "      <td>2023-05-25</td>\n",
       "      <td>0 days 00:10:48</td>\n",
       "    </tr>\n",
       "    <tr>\n",
       "      <th>7757</th>\n",
       "      <td>11437676</td>\n",
       "      <td>Data Analyst - Level 2</td>\n",
       "      <td>Description:We are Lockheed MartinThe position...</td>\n",
       "      <td>entry</td>\n",
       "      <td>Lockheed Martin</td>\n",
       "      <td>2023-05-26</td>\n",
       "      <td>0 days 11:17:02</td>\n",
       "    </tr>\n",
       "  </tbody>\n",
       "</table>\n",
       "</div>"
      ],
      "text/plain": [
       "            id                                  position title  \\\n",
       "102    6696435                    Online Data Analyst - Remote   \n",
       "133    7176379                            Junior Data Engineer   \n",
       "134    7176380                            Junior Data Engineer   \n",
       "135    7176381                            Junior Data Engineer   \n",
       "136    7176382                            Junior Data Engineer   \n",
       "244    7494998                   Junior Risk Reporting Analyst   \n",
       "5068  11282827                             Junior Data Analyst   \n",
       "5442  11307681  Field Sales Support Systems Engineer (Level 2)   \n",
       "6759  11401409                          A/AI Research Engineer   \n",
       "6921  11407560                          Data Analyst - Level 2   \n",
       "7449  11426998                          Data Solutions Analyst   \n",
       "7757  11437676                          Data Analyst - Level 2   \n",
       "\n",
       "                                            description  level  \\\n",
       "102   We are hiring freelance English speaking Onlin...  entry   \n",
       "133   COMPANYBudweiser, Bud Light. Stella Artois. Mi...  entry   \n",
       "134   COMPANYBudweiser, Bud Light. Stella Artois. Mi...  entry   \n",
       "135   COMPANYBudweiser, Bud Light. Stella Artois. Mi...  entry   \n",
       "136   COMPANYBudweiser, Bud Light. Stella Artois. Mi...  entry   \n",
       "244   Who we are At PayPal (NASDAQ: PYPL), we believ...  entry   \n",
       "5068  We believe everyone should have access to a be...  entry   \n",
       "5442  Description:We are Lockheed MartinThis positio...  entry   \n",
       "6759  Description:When it comes to using cutting-edg...  entry   \n",
       "6921  Description:We are Lockheed MartinThe selected...  entry   \n",
       "7449  Description Provides, builds, and maintains pr...  entry   \n",
       "7757  Description:We are Lockheed MartinThe position...  entry   \n",
       "\n",
       "                          company publish date     publish time  \n",
       "102   TELUS International AI Inc.   2022-10-06  0 days 15:07:17  \n",
       "133                Anheuser-Busch   2022-02-18  0 days 23:50:13  \n",
       "134                Anheuser-Busch   2022-02-18  0 days 23:50:13  \n",
       "135                Anheuser-Busch   2022-06-08  0 days 00:42:11  \n",
       "136                Anheuser-Busch   2022-02-18  0 days 23:50:13  \n",
       "244                        PayPal   2022-01-28  0 days 11:15:12  \n",
       "5068                       Perpay   2023-05-17  0 days 23:03:55  \n",
       "5442              Lockheed Martin   2023-05-06  0 days 11:14:01  \n",
       "6759              Lockheed Martin   2023-05-19  0 days 11:22:16  \n",
       "6921              Lockheed Martin   2023-05-20  0 days 11:25:35  \n",
       "7449     Liberty Mutual Insurance   2023-05-25  0 days 00:10:48  \n",
       "7757              Lockheed Martin   2023-05-26  0 days 11:17:02  "
      ]
     },
     "execution_count": 61,
     "metadata": {},
     "output_type": "execute_result"
    }
   ],
   "source": [
    "entry_df=df[df['level']=='entry']\n",
    "entry_df"
   ]
  },
  {
   "attachments": {},
   "cell_type": "markdown",
   "metadata": {},
   "source": [
    "Most of the jobs are for mid and senior level and very few jobs for entry level."
   ]
  },
  {
   "attachments": {},
   "cell_type": "markdown",
   "metadata": {},
   "source": [
    "1. which companys have more job listings\n",
    "2. which company have more job levels per level\n",
    "3. which state has more job listings in total and in each level\n",
    "4. analyse latest jobs"
   ]
  },
  {
   "cell_type": "code",
   "execution_count": 3,
   "metadata": {},
   "outputs": [
    {
     "name": "stdout",
     "output_type": "stream",
     "text": [
      "1.3.4\n"
     ]
    }
   ],
   "source": [
    "print(pd.__version__)"
   ]
  },
  {
   "cell_type": "markdown",
   "metadata": {},
   "source": []
  }
 ],
 "metadata": {
  "kernelspec": {
   "display_name": "base",
   "language": "python",
   "name": "python3"
  },
  "language_info": {
   "codemirror_mode": {
    "name": "ipython",
    "version": 3
   },
   "file_extension": ".py",
   "mimetype": "text/x-python",
   "name": "python",
   "nbconvert_exporter": "python",
   "pygments_lexer": "ipython3",
   "version": "3.9.7"
  },
  "orig_nbformat": 4
 },
 "nbformat": 4,
 "nbformat_minor": 2
}
