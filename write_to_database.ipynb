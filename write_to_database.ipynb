{
 "cells": [
  {
   "cell_type": "code",
   "execution_count": 1,
   "metadata": {},
   "outputs": [],
   "source": [
    "#pip install mysql-connector-python"
   ]
  },
  {
   "cell_type": "code",
   "execution_count": 2,
   "metadata": {},
   "outputs": [],
   "source": [
    "import pandas as pd\n",
    "from sqlalchemy import create_engine\n",
    "hostname='localhost'\n",
    "username='root'\n",
    "password='admin'\n",
    "dbname='Muse_Job_details'\n"
   ]
  },
  {
   "cell_type": "code",
   "execution_count": 30,
   "metadata": {},
   "outputs": [
    {
     "data": {
      "text/html": [
       "<div>\n",
       "<style scoped>\n",
       "    .dataframe tbody tr th:only-of-type {\n",
       "        vertical-align: middle;\n",
       "    }\n",
       "\n",
       "    .dataframe tbody tr th {\n",
       "        vertical-align: top;\n",
       "    }\n",
       "\n",
       "    .dataframe thead th {\n",
       "        text-align: right;\n",
       "    }\n",
       "</style>\n",
       "<table border=\"1\" class=\"dataframe\">\n",
       "  <thead>\n",
       "    <tr style=\"text-align: right;\">\n",
       "      <th></th>\n",
       "      <th>id</th>\n",
       "      <th>name</th>\n",
       "      <th>contents</th>\n",
       "      <th>levels</th>\n",
       "      <th>company</th>\n",
       "      <th>date_published</th>\n",
       "      <th>time_published</th>\n",
       "    </tr>\n",
       "  </thead>\n",
       "  <tbody>\n",
       "    <tr>\n",
       "      <th>0</th>\n",
       "      <td>11414403</td>\n",
       "      <td>Member Specialist PT</td>\n",
       "      <td>Position Summary...What you'll do...Ensures ar...</td>\n",
       "      <td>mid</td>\n",
       "      <td>Walmart</td>\n",
       "      <td>2023-05-22</td>\n",
       "      <td>23:41:54</td>\n",
       "    </tr>\n",
       "    <tr>\n",
       "      <th>1</th>\n",
       "      <td>11380066</td>\n",
       "      <td>PwC Private - Japanese Business Network - Audi...</td>\n",
       "      <td>A career within PwC Private will provide the o...</td>\n",
       "      <td>senior</td>\n",
       "      <td>PwC</td>\n",
       "      <td>2023-05-16</td>\n",
       "      <td>11:25:21</td>\n",
       "    </tr>\n",
       "    <tr>\n",
       "      <th>2</th>\n",
       "      <td>11375065</td>\n",
       "      <td>Calhoun, GA Delivery Driver</td>\n",
       "      <td>ARE YOU A CURRENT US FOODS EMPLOYEE? PLEASE AP...</td>\n",
       "      <td>mid</td>\n",
       "      <td>US Foods</td>\n",
       "      <td>2023-05-17</td>\n",
       "      <td>14:55:46</td>\n",
       "    </tr>\n",
       "    <tr>\n",
       "      <th>3</th>\n",
       "      <td>11291995</td>\n",
       "      <td>Senior Data Management Analyst</td>\n",
       "      <td>About this role:    Wells Fargo is seeking a ...</td>\n",
       "      <td>senior</td>\n",
       "      <td>Wells Fargo</td>\n",
       "      <td>2023-05-26</td>\n",
       "      <td>23:46:34</td>\n",
       "    </tr>\n",
       "    <tr>\n",
       "      <th>4</th>\n",
       "      <td>11409323</td>\n",
       "      <td>Data Engineer, Product Analytics - Monetization</td>\n",
       "      <td>From making valuable connections between peopl...</td>\n",
       "      <td>mid</td>\n",
       "      <td>Meta</td>\n",
       "      <td>2023-05-27</td>\n",
       "      <td>23:23:11</td>\n",
       "    </tr>\n",
       "  </tbody>\n",
       "</table>\n",
       "</div>"
      ],
      "text/plain": [
       "         id                                               name  \\\n",
       "0  11414403                               Member Specialist PT   \n",
       "1  11380066  PwC Private - Japanese Business Network - Audi...   \n",
       "2  11375065                        Calhoun, GA Delivery Driver   \n",
       "3  11291995                     Senior Data Management Analyst   \n",
       "4  11409323    Data Engineer, Product Analytics - Monetization   \n",
       "\n",
       "                                            contents  levels      company  \\\n",
       "0  Position Summary...What you'll do...Ensures ar...     mid      Walmart   \n",
       "1  A career within PwC Private will provide the o...  senior          PwC   \n",
       "2  ARE YOU A CURRENT US FOODS EMPLOYEE? PLEASE AP...     mid     US Foods   \n",
       "3   About this role:    Wells Fargo is seeking a ...  senior  Wells Fargo   \n",
       "4  From making valuable connections between peopl...     mid         Meta   \n",
       "\n",
       "  date_published time_published  \n",
       "0     2023-05-22       23:41:54  \n",
       "1     2023-05-16       11:25:21  \n",
       "2     2023-05-17       14:55:46  \n",
       "3     2023-05-26       23:46:34  \n",
       "4     2023-05-27       23:23:11  "
      ]
     },
     "execution_count": 30,
     "metadata": {},
     "output_type": "execute_result"
    }
   ],
   "source": [
    "df=pd.read_csv('data_analytics_clean.csv')\n",
    "df.head()\n"
   ]
  },
  {
   "cell_type": "code",
   "execution_count": 4,
   "metadata": {},
   "outputs": [
    {
     "name": "stdout",
     "output_type": "stream",
     "text": [
      "Error while connecting to MySQL 1007 (HY000): Can't create database 'muse_job_details'; database exists\n"
     ]
    }
   ],
   "source": [
    "import mysql.connector as msql\n",
    "from mysql.connector import Error\n",
    "\n",
    "try:\n",
    "    conn=msql.connect(host='localhost',user='root',password='admin')\n",
    "    if conn.is_connected():\n",
    "        cursor=conn.cursor()\n",
    "        cursor.execute(\"CREATE DATABASE Muse_Job_details\")\n",
    "        print('Database is created')\n",
    "except Error as e:\n",
    "    print('Error while connecting to MySQL',e)"
   ]
  },
  {
   "cell_type": "code",
   "execution_count": 5,
   "metadata": {},
   "outputs": [
    {
     "data": {
      "text/html": [
       "<div>\n",
       "<style scoped>\n",
       "    .dataframe tbody tr th:only-of-type {\n",
       "        vertical-align: middle;\n",
       "    }\n",
       "\n",
       "    .dataframe tbody tr th {\n",
       "        vertical-align: top;\n",
       "    }\n",
       "\n",
       "    .dataframe thead th {\n",
       "        text-align: right;\n",
       "    }\n",
       "</style>\n",
       "<table border=\"1\" class=\"dataframe\">\n",
       "  <thead>\n",
       "    <tr style=\"text-align: right;\">\n",
       "      <th></th>\n",
       "      <th>id</th>\n",
       "      <th>name</th>\n",
       "      <th>contents</th>\n",
       "      <th>levels</th>\n",
       "      <th>company</th>\n",
       "      <th>date_published</th>\n",
       "      <th>time_published</th>\n",
       "    </tr>\n",
       "  </thead>\n",
       "  <tbody>\n",
       "    <tr>\n",
       "      <th>0</th>\n",
       "      <td>11414403</td>\n",
       "      <td>Member Specialist PT</td>\n",
       "      <td>Position Summary...What you'll do...Ensures ar...</td>\n",
       "      <td>mid</td>\n",
       "      <td>Walmart</td>\n",
       "      <td>2023-05-22</td>\n",
       "      <td>23:41:54</td>\n",
       "    </tr>\n",
       "    <tr>\n",
       "      <th>1</th>\n",
       "      <td>11380066</td>\n",
       "      <td>PwC Private - Japanese Business Network - Audi...</td>\n",
       "      <td>A career within PwC Private will provide the o...</td>\n",
       "      <td>senior</td>\n",
       "      <td>PwC</td>\n",
       "      <td>2023-05-16</td>\n",
       "      <td>11:25:21</td>\n",
       "    </tr>\n",
       "    <tr>\n",
       "      <th>2</th>\n",
       "      <td>11375065</td>\n",
       "      <td>Calhoun, GA Delivery Driver</td>\n",
       "      <td>ARE YOU A CURRENT US FOODS EMPLOYEE? PLEASE AP...</td>\n",
       "      <td>mid</td>\n",
       "      <td>US Foods</td>\n",
       "      <td>2023-05-17</td>\n",
       "      <td>14:55:46</td>\n",
       "    </tr>\n",
       "    <tr>\n",
       "      <th>3</th>\n",
       "      <td>11291995</td>\n",
       "      <td>Senior Data Management Analyst</td>\n",
       "      <td>About this role:    Wells Fargo is seeking a ...</td>\n",
       "      <td>senior</td>\n",
       "      <td>Wells Fargo</td>\n",
       "      <td>2023-05-26</td>\n",
       "      <td>23:46:34</td>\n",
       "    </tr>\n",
       "    <tr>\n",
       "      <th>4</th>\n",
       "      <td>11409323</td>\n",
       "      <td>Data Engineer, Product Analytics - Monetization</td>\n",
       "      <td>From making valuable connections between peopl...</td>\n",
       "      <td>mid</td>\n",
       "      <td>Meta</td>\n",
       "      <td>2023-05-27</td>\n",
       "      <td>23:23:11</td>\n",
       "    </tr>\n",
       "  </tbody>\n",
       "</table>\n",
       "</div>"
      ],
      "text/plain": [
       "         id                                               name  \\\n",
       "0  11414403                               Member Specialist PT   \n",
       "1  11380066  PwC Private - Japanese Business Network - Audi...   \n",
       "2  11375065                        Calhoun, GA Delivery Driver   \n",
       "3  11291995                     Senior Data Management Analyst   \n",
       "4  11409323    Data Engineer, Product Analytics - Monetization   \n",
       "\n",
       "                                            contents  levels      company  \\\n",
       "0  Position Summary...What you'll do...Ensures ar...     mid      Walmart   \n",
       "1  A career within PwC Private will provide the o...  senior          PwC   \n",
       "2  ARE YOU A CURRENT US FOODS EMPLOYEE? PLEASE AP...     mid     US Foods   \n",
       "3   About this role:    Wells Fargo is seeking a ...  senior  Wells Fargo   \n",
       "4  From making valuable connections between peopl...     mid         Meta   \n",
       "\n",
       "  date_published time_published  \n",
       "0     2023-05-22       23:41:54  \n",
       "1     2023-05-16       11:25:21  \n",
       "2     2023-05-17       14:55:46  \n",
       "3     2023-05-26       23:46:34  \n",
       "4     2023-05-27       23:23:11  "
      ]
     },
     "execution_count": 5,
     "metadata": {},
     "output_type": "execute_result"
    }
   ],
   "source": [
    "df.head()"
   ]
  },
  {
   "cell_type": "code",
   "execution_count": 6,
   "metadata": {},
   "outputs": [
    {
     "data": {
      "text/plain": [
       "Index(['id', 'name', 'contents', 'levels', 'company', 'date_published',\n",
       "       'time_published'],\n",
       "      dtype='object')"
      ]
     },
     "execution_count": 6,
     "metadata": {},
     "output_type": "execute_result"
    }
   ],
   "source": [
    "df.columns"
   ]
  },
  {
   "cell_type": "code",
   "execution_count": 32,
   "metadata": {},
   "outputs": [
    {
     "name": "stdout",
     "output_type": "stream",
     "text": [
      "You're connected to database:  ('muse_job_details',)\n",
      "Creating table....\n",
      "Table is created....\n",
      "All records inserted\n"
     ]
    }
   ],
   "source": [
    "table = (\n",
    "\"CREATE TABLE IF NOT EXISTS `Job_listings_DA` (\"\n",
    "\"  `id` INT NOT NULL,\"\n",
    "\"  `position title` VARCHAR(300) NULL,\"\n",
    "\"  `description` TEXT(30000) NULL,\"\n",
    "\"  `level` VARCHAR(20) NULL,\"\n",
    "\"  `company` VARCHAR(90) NULL,\"\n",
    "\"  `publish date` DATE NULL,\"\n",
    "\"  `publish time` TIME NULL,\"\n",
    "\"  PRIMARY KEY (`id`))\"\n",
    "\"ENGINE = InnoDB  \")\n",
    "try:\n",
    "    conn = msql.connect( database=dbname,host=hostname,user=username,password=password)\n",
    "    if conn.is_connected():\n",
    "        cursor = conn.cursor()\n",
    "        cursor.execute(\"select database();\")\n",
    "        record = cursor.fetchone()\n",
    "        print(\"You're connected to database: \", record)\n",
    "        cursor.execute('DROP TABLE IF EXISTS Job_listings_DA;')\n",
    "        print('Creating table....')\n",
    "        cursor.execute(table)\n",
    "        print(\"Table is created....\")\n",
    "        #loop through the data frame\n",
    "        for i,row in df.iterrows():\n",
    "            #here %S means string values \n",
    "            sql = \"INSERT INTO Muse_Job_details.Job_listings_DA VALUES (%s,%s,%s,%s,%s,%s,%s)\"\n",
    "            cursor.execute(sql, tuple(row))\n",
    "            #print(f\"{i+1} Records inserted\")\n",
    "            # the connection is not auto committed by default, so we must commit to save our changes\n",
    "            conn.commit()\n",
    "        print(\"All records inserted\")\n",
    "except Error as e:\n",
    "            print(\"Error while connecting to MySQL\", e)"
   ]
  },
  {
   "cell_type": "code",
   "execution_count": 27,
   "metadata": {},
   "outputs": [
    {
     "data": {
      "text/html": [
       "<div>\n",
       "<style scoped>\n",
       "    .dataframe tbody tr th:only-of-type {\n",
       "        vertical-align: middle;\n",
       "    }\n",
       "\n",
       "    .dataframe tbody tr th {\n",
       "        vertical-align: top;\n",
       "    }\n",
       "\n",
       "    .dataframe thead th {\n",
       "        text-align: right;\n",
       "    }\n",
       "</style>\n",
       "<table border=\"1\" class=\"dataframe\">\n",
       "  <thead>\n",
       "    <tr style=\"text-align: right;\">\n",
       "      <th></th>\n",
       "      <th>location_id</th>\n",
       "      <th>job_id</th>\n",
       "      <th>city</th>\n",
       "      <th>state</th>\n",
       "    </tr>\n",
       "  </thead>\n",
       "  <tbody>\n",
       "    <tr>\n",
       "      <th>0</th>\n",
       "      <td>0</td>\n",
       "      <td>11414403</td>\n",
       "      <td>Albuquerque</td>\n",
       "      <td>NM</td>\n",
       "    </tr>\n",
       "    <tr>\n",
       "      <th>1</th>\n",
       "      <td>1</td>\n",
       "      <td>11380066</td>\n",
       "      <td>Remote</td>\n",
       "      <td>Remote</td>\n",
       "    </tr>\n",
       "    <tr>\n",
       "      <th>2</th>\n",
       "      <td>2</td>\n",
       "      <td>11375065</td>\n",
       "      <td>Calhoun</td>\n",
       "      <td>GA</td>\n",
       "    </tr>\n",
       "    <tr>\n",
       "      <th>3</th>\n",
       "      <td>3</td>\n",
       "      <td>11291995</td>\n",
       "      <td>Charlotte</td>\n",
       "      <td>NC</td>\n",
       "    </tr>\n",
       "    <tr>\n",
       "      <th>4</th>\n",
       "      <td>4</td>\n",
       "      <td>11409323</td>\n",
       "      <td>Bellevue</td>\n",
       "      <td>WA</td>\n",
       "    </tr>\n",
       "  </tbody>\n",
       "</table>\n",
       "</div>"
      ],
      "text/plain": [
       "   location_id    job_id         city   state\n",
       "0            0  11414403  Albuquerque      NM\n",
       "1            1  11380066       Remote  Remote\n",
       "2            2  11375065      Calhoun      GA\n",
       "3            3  11291995    Charlotte      NC\n",
       "4            4  11409323     Bellevue      WA"
      ]
     },
     "execution_count": 27,
     "metadata": {},
     "output_type": "execute_result"
    }
   ],
   "source": [
    "df=pd.read_csv('city_states.csv',names=['location_id','job_id','city','state'],skiprows=1)\n",
    "df.head()"
   ]
  },
  {
   "cell_type": "code",
   "execution_count": 28,
   "metadata": {},
   "outputs": [],
   "source": [
    "table = (\n",
    "\"CREATE TABLE IF NOT EXISTS `Locations` (\"\n",
    "\"  `location_id` INT NOT NULL,\"\n",
    "\"  `job_id` INT NOT NULL,\"\n",
    "\"  `city` VARCHAR(30) NULL,\"\n",
    "\"  `state` VARCHAR(30) NULL,\"\n",
    "\"  PRIMARY KEY (`location_id`))\"\n",
    "\"ENGINE = InnoDB  \")"
   ]
  },
  {
   "cell_type": "code",
   "execution_count": 29,
   "metadata": {},
   "outputs": [
    {
     "name": "stdout",
     "output_type": "stream",
     "text": [
      "You're connected to database:  ('muse_job_details',)\n",
      "Creating table....\n",
      "Table is created....\n",
      "All records inserted\n"
     ]
    }
   ],
   "source": [
    "try:\n",
    "    conn = msql.connect( database=dbname,host=hostname,user=username,password=password)\n",
    "    if conn.is_connected():\n",
    "        cursor = conn.cursor()\n",
    "        cursor.execute(\"select database();\")\n",
    "        record = cursor.fetchone()\n",
    "        print(\"You're connected to database: \", record)\n",
    "        cursor.execute('DROP TABLE IF EXISTS Locations;')\n",
    "        print('Creating table....')\n",
    "        cursor.execute(table)\n",
    "        print(\"Table is created....\")\n",
    "        #loop through the data frame\n",
    "        for i,row in df.iterrows():\n",
    "            #here %S means string values \n",
    "            sql = \"INSERT INTO Muse_Job_details.Locations VALUES (%s,%s,%s,%s)\"\n",
    "            cursor.execute(sql, tuple(row))\n",
    "            #print(f\"{i+1} Records inserted\")\n",
    "            # the connection is not auto committed by default, so we must commit to save our changes\n",
    "            conn.commit()\n",
    "        print(\"All records inserted\")\n",
    "except Error as e:\n",
    "            print(\"Error while connecting to MySQL\", e)"
   ]
  }
 ],
 "metadata": {
  "kernelspec": {
   "display_name": "base",
   "language": "python",
   "name": "python3"
  },
  "language_info": {
   "codemirror_mode": {
    "name": "ipython",
    "version": 3
   },
   "file_extension": ".py",
   "mimetype": "text/x-python",
   "name": "python",
   "nbconvert_exporter": "python",
   "pygments_lexer": "ipython3",
   "version": "3.9.7"
  },
  "orig_nbformat": 4
 },
 "nbformat": 4,
 "nbformat_minor": 2
}
